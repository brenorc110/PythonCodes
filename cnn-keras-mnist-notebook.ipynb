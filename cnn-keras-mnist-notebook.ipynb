{
  "cells": [
    {
      "cell_type": "code",
      "execution_count": 1,
      "metadata": {
        "colab": {
          "base_uri": "https://localhost:8080/",
          "height": 34
        },
        "colab_type": "code",
        "id": "HcsvvWE4kNsY",
        "outputId": "bf700c58-961e-419c-aca1-c475443188ec"
      },
      "outputs": [],
      "source": [
        "import tensorflow as tf\n",
        "#base de dados para treinamento\n",
        "from keras.datasets import mnist\n",
        "#Utilitario de montar camadas: \n",
        "from keras.models import Sequential\n",
        "#Classe para criacao das camadas finais (densamente conectadas)\n",
        "from keras.layers import Dense\n",
        "#Normalização: Impedir overfitting e normalizar daods em vetor.\n",
        "from keras.layers import Dropout\n",
        "from keras.layers import Flatten\n",
        "#Componente que raliza a convolucao\n",
        "from keras.layers.convolutional import Conv2D\n",
        "#Realiza a fase de pooling, retirar amostras do mapa de features\n",
        "from keras.layers.convolutional import MaxPooling2D\n",
        "import numpy as np\n",
        "from matplotlib import pyplot as plt\n",
        "from keras.utils import np_utils\n",
        "import cv2\n",
        "import os\n",
        "\n",
        "from keras import backend as K\n",
        "\n",
        "#Usando a ordem dos dados da imagem do Theano (framework): (canais, altura, largura), TensorFlow usa (alt, larg, canais). Serão usadas imgs 28x28 px.\n",
        "#K.tensorflow_backend.set_image_dim_ordering('th')\n",
        "K.set_image_data_format('channels_first')\n",
        "\n",
        "%matplotlib inline\n",
        "\n",
        "seed = 7\n",
        "np.random.seed(seed)"
      ]
    },
    {
      "cell_type": "code",
      "metadata": {
        "id": "u9dn83SmmFo4",
        "colab_type": "code",
        "colab": {}
      },
      "source": [
        "def get_available_gpus():\n",
        "    if K.tensorflow_backend._LOCAL_DEVICES is None:\n",
        "        devices = tf.config.list_logical_devices()\n",
        "        K.tensorflow_backend._LOCAL_DEVICES = [x.name for x in devices]\n",
        "    return [x for x in K.tensorflow_backend._LOCAL_DEVICES if 'device:gpu' in x.lower()]\n",
        "\n",
        "def load_data():\n",
        "    #Importando as features de treino e de teste do Mnist: \n",
        "    (x_train, y_train), (x_test, y_test) = mnist.load_data()\n",
        "    #Redimensionando os objetos do dataset (Mnist), de treino, e depois, de teste:\n",
        "    #(60000 imgs, 1 canal cinza, 28px, 28px)\n",
        "    x_train = x_train.reshape(x_train.shape[0], 1, 28, 28).astype('float32')\n",
        "    \n",
        "    x_test = x_test.reshape(x_test.shape[0], 1, 28, 28).astype('float32')\n",
        "    # Passa os valores para um intervalo de 0 a 1, divindindo-os por 255\n",
        "    x_train = x_train / 255\n",
        "    x_test = x_test / 255\n",
        "    #Passando para valores categoricos (matriz).\n",
        "    y_train = np_utils.to_categorical(y_train)\n",
        "    y_test = np_utils.to_categorical(y_test)\n",
        "    print(x_train.shape)\n",
        "    return x_train, y_train, x_test, y_test"
      ],
      "execution_count": 2,
      "outputs": []
    },
    {
      "cell_type": "code",
      "execution_count": 3,
      "metadata": {
        "colab": {},
        "colab_type": "code",
        "id": "MWfftoRZmaDz"
      },
      "outputs": [
        {
          "output_type": "stream",
          "name": "stdout",
          "text": "(60000, 1, 28, 28)\n"
        }
      ],
      "source": [
        "x_train, y_train, x_test, y_test = load_data()\n",
        "num_classes = y_test.shape[1] # Testa quantas camadas criadas.\n",
        "\n",
        "# O model será exportado para este arquivo\n",
        "filename='mnistneuralnet.h5'\n",
        "\n",
        "def model():\n",
        "    #Rede neural em si:\n",
        "    model = Sequential()\n",
        "    #1a camada: 30 feature maps, varrerá numa janela 5x5, imagens no padrão já mencionado, e funcao de ativacao relu.\n",
        "    model.add(Conv2D(30, (5, 5), input_shape=(1, 28, 28), activation='relu'))\n",
        "    #2a camada: Pooling, retira a amostra, no caso de 2x2.\n",
        "    model.add(MaxPooling2D(pool_size=(2, 2)))\n",
        "    \n",
        "    model.add(Conv2D(15, (3, 3), input_shape=(1, 28, 28), activation='relu'))\n",
        "\n",
        "    model.add(MaxPooling2D(pool_size=(2, 2)))\n",
        "    #3a camada: Regularizacao (Desliga neuronios aleatoriamente para vitar overfitting).\n",
        "    model.add(Dropout(0.2))\n",
        "    #4a camada: Fletar, transformar a camada com os dados em matriz.\n",
        "    model.add(Flatten())\n",
        "    #Camada simples com 128 neurônios\n",
        "    model.add(Dense(128, activation='relu'))\n",
        "\n",
        "    model.add(Dense(64, activation='relu'))\n",
        "\n",
        "    model.add(Dense(32, activation='relu'))\n",
        "    #Camada final: junta dados e classificacao final.\n",
        "    model.add(Dense(num_classes, activation='softmax', name='predict'))\n",
        "    #Para consolidar a rede, de fato. Funcao de loss (perda) calcula os erros. optimizer poderia ser gradient descent\n",
        "    model.compile(loss='categorical_crossentropy', optimizer='adam', metrics=['accuracy'])\n",
        "    \n",
        "    return model"
      ]
    },
    {
      "cell_type": "code",
      "metadata": {
        "id": "Ynxq0fXEmn3v",
        "colab_type": "code",
        "outputId": "a18de4c5-00ee-408b-f8b1-99ab83a97616",
        "colab": {
          "base_uri": "https://localhost:8080/",
          "height": 850
        }
      },
      "source": [
        "K.tensorflow_backend._get_available_gpus = get_available_gpus\n",
        "\n",
        "model = model()\n",
        "model.summary()\n",
        "\n",
        "# Verifica se já existe um modelo treinado e exportado para um arquivo .h5.\n",
        "# Um novo modelo será treinado, caso este arquivo não exista.\n",
        "if not os.path.exists('./{}'.format(filename) ):\n",
        "    model.fit(x_train, y_train, validation_data=(x_test, y_test), epochs=10, batch_size=200)\n",
        "    model.save_weights(filename)\n",
        "else:\n",
        "    # carrega um modelo previamente treinado\n",
        "    model.load_weights('./{}'.format(filename) )"
      ],
      "execution_count": 4,
      "outputs": [
        {
          "output_type": "error",
          "ename": "AttributeError",
          "evalue": "module 'keras.backend' has no attribute 'tensorflow_backend'",
          "traceback": [
            "\u001b[1;31m---------------------------------------------------------------------------\u001b[0m",
            "\u001b[1;31mAttributeError\u001b[0m                            Traceback (most recent call last)",
            "\u001b[1;32m<ipython-input-4-30f87fd637f9>\u001b[0m in \u001b[0;36m<module>\u001b[1;34m\u001b[0m\n\u001b[1;32m----> 1\u001b[1;33m \u001b[0mK\u001b[0m\u001b[1;33m.\u001b[0m\u001b[0mtensorflow_backend\u001b[0m\u001b[1;33m.\u001b[0m\u001b[0m_get_available_gpus\u001b[0m \u001b[1;33m=\u001b[0m \u001b[0mget_available_gpus\u001b[0m\u001b[1;33m\u001b[0m\u001b[1;33m\u001b[0m\u001b[0m\n\u001b[0m\u001b[0;32m      2\u001b[0m \u001b[1;33m\u001b[0m\u001b[0m\n\u001b[0;32m      3\u001b[0m \u001b[0mmodel\u001b[0m \u001b[1;33m=\u001b[0m \u001b[0mmodel\u001b[0m\u001b[1;33m(\u001b[0m\u001b[1;33m)\u001b[0m\u001b[1;33m\u001b[0m\u001b[1;33m\u001b[0m\u001b[0m\n\u001b[0;32m      4\u001b[0m \u001b[0mmodel\u001b[0m\u001b[1;33m.\u001b[0m\u001b[0msummary\u001b[0m\u001b[1;33m(\u001b[0m\u001b[1;33m)\u001b[0m\u001b[1;33m\u001b[0m\u001b[1;33m\u001b[0m\u001b[0m\n\u001b[0;32m      5\u001b[0m \u001b[1;33m\u001b[0m\u001b[0m\n",
            "\u001b[1;31mAttributeError\u001b[0m: module 'keras.backend' has no attribute 'tensorflow_backend'"
          ]
        }
      ]
    },
    {
      "cell_type": "code",
      "metadata": {
        "id": "kp2wR1gnn7kG",
        "colab_type": "code",
        "outputId": "9bc5f6a7-5aa8-4332-d916-1d85c72480ae",
        "colab": {
          "base_uri": "https://localhost:8080/",
          "height": 51
        }
      },
      "source": [
        "scores = model.evaluate(x_test, y_test, verbose=0)\n",
        "print(\"\\nacc: %.2f%%\" % (scores[1]*100))"
      ],
      "execution_count": 5,
      "outputs": [
        {
          "output_type": "error",
          "ename": "AttributeError",
          "evalue": "'function' object has no attribute 'evaluate'",
          "traceback": [
            "\u001b[1;31m---------------------------------------------------------------------------\u001b[0m",
            "\u001b[1;31mAttributeError\u001b[0m                            Traceback (most recent call last)",
            "\u001b[1;32m<ipython-input-5-0f036c1bfd8c>\u001b[0m in \u001b[0;36m<module>\u001b[1;34m\u001b[0m\n\u001b[1;32m----> 1\u001b[1;33m \u001b[0mscores\u001b[0m \u001b[1;33m=\u001b[0m \u001b[0mmodel\u001b[0m\u001b[1;33m.\u001b[0m\u001b[0mevaluate\u001b[0m\u001b[1;33m(\u001b[0m\u001b[0mx_test\u001b[0m\u001b[1;33m,\u001b[0m \u001b[0my_test\u001b[0m\u001b[1;33m,\u001b[0m \u001b[0mverbose\u001b[0m\u001b[1;33m=\u001b[0m\u001b[1;36m0\u001b[0m\u001b[1;33m)\u001b[0m\u001b[1;33m\u001b[0m\u001b[1;33m\u001b[0m\u001b[0m\n\u001b[0m\u001b[0;32m      2\u001b[0m \u001b[0mprint\u001b[0m\u001b[1;33m(\u001b[0m\u001b[1;34m\"\\nacc: %.2f%%\"\u001b[0m \u001b[1;33m%\u001b[0m \u001b[1;33m(\u001b[0m\u001b[0mscores\u001b[0m\u001b[1;33m[\u001b[0m\u001b[1;36m1\u001b[0m\u001b[1;33m]\u001b[0m\u001b[1;33m*\u001b[0m\u001b[1;36m100\u001b[0m\u001b[1;33m)\u001b[0m\u001b[1;33m)\u001b[0m\u001b[1;33m\u001b[0m\u001b[1;33m\u001b[0m\u001b[0m\n",
            "\u001b[1;31mAttributeError\u001b[0m: 'function' object has no attribute 'evaluate'"
          ]
        }
      ]
    },
    {
      "cell_type": "code",
      "metadata": {
        "id": "3_w7_5A1nBRH",
        "colab_type": "code",
        "outputId": "fcc67b09-163b-460f-ea0a-25251a4102c9",
        "colab": {
          "base_uri": "https://localhost:8080/",
          "height": 285
        }
      },
      "source": [
        "img_pred = cv2.imread(\"number-five.png\", 0)\n",
        "plt.imshow(img_pred, cmap='gray')\n",
        "\n",
        "if img_pred.shape != [28,28]:\n",
        "    img2 = cv2.resize(img_pred, (28, 28))\n",
        "    img_pred = img2.reshape(28, 28, -1)\n",
        "else:\n",
        "    img_pred = img_pred.reshape(28, 28, -1)\n",
        "\n",
        "\n",
        "img_pred = img_pred.reshape(1, 1, 28, 28).astype('float32')\n",
        "\n",
        "img_pred = img_pred/255.0\n",
        "\n",
        "\n",
        "\n",
        "pred = model.predict_classes(img_pred)\n",
        "pred_proba = model.predict_proba(img_pred)\n",
        "pred_proba = \"%.2f%%\" % (pred_proba[0][pred]*100)\n",
        "print(pred[0], \" com confiança de \", pred_proba)\n"
      ],
      "execution_count": 6,
      "outputs": [
        {
          "output_type": "error",
          "ename": "AttributeError",
          "evalue": "'function' object has no attribute 'predict_classes'",
          "traceback": [
            "\u001b[1;31m---------------------------------------------------------------------------\u001b[0m",
            "\u001b[1;31mAttributeError\u001b[0m                            Traceback (most recent call last)",
            "\u001b[1;32m<ipython-input-6-831f423f2965>\u001b[0m in \u001b[0;36m<module>\u001b[1;34m\u001b[0m\n\u001b[0;32m     15\u001b[0m \u001b[1;33m\u001b[0m\u001b[0m\n\u001b[0;32m     16\u001b[0m \u001b[1;33m\u001b[0m\u001b[0m\n\u001b[1;32m---> 17\u001b[1;33m \u001b[0mpred\u001b[0m \u001b[1;33m=\u001b[0m \u001b[0mmodel\u001b[0m\u001b[1;33m.\u001b[0m\u001b[0mpredict_classes\u001b[0m\u001b[1;33m(\u001b[0m\u001b[0mimg_pred\u001b[0m\u001b[1;33m)\u001b[0m\u001b[1;33m\u001b[0m\u001b[1;33m\u001b[0m\u001b[0m\n\u001b[0m\u001b[0;32m     18\u001b[0m \u001b[0mpred_proba\u001b[0m \u001b[1;33m=\u001b[0m \u001b[0mmodel\u001b[0m\u001b[1;33m.\u001b[0m\u001b[0mpredict_proba\u001b[0m\u001b[1;33m(\u001b[0m\u001b[0mimg_pred\u001b[0m\u001b[1;33m)\u001b[0m\u001b[1;33m\u001b[0m\u001b[1;33m\u001b[0m\u001b[0m\n\u001b[0;32m     19\u001b[0m \u001b[0mpred_proba\u001b[0m \u001b[1;33m=\u001b[0m \u001b[1;34m\"%.2f%%\"\u001b[0m \u001b[1;33m%\u001b[0m \u001b[1;33m(\u001b[0m\u001b[0mpred_proba\u001b[0m\u001b[1;33m[\u001b[0m\u001b[1;36m0\u001b[0m\u001b[1;33m]\u001b[0m\u001b[1;33m[\u001b[0m\u001b[0mpred\u001b[0m\u001b[1;33m]\u001b[0m\u001b[1;33m*\u001b[0m\u001b[1;36m100\u001b[0m\u001b[1;33m)\u001b[0m\u001b[1;33m\u001b[0m\u001b[1;33m\u001b[0m\u001b[0m\n",
            "\u001b[1;31mAttributeError\u001b[0m: 'function' object has no attribute 'predict_classes'"
          ]
        }
      ]
    },
    {
      "cell_type": "code",
      "metadata": {
        "id": "KFzZE77Whprx",
        "colab_type": "code",
        "colab": {}
      },
      "source": [
        ""
      ],
      "execution_count": 0,
      "outputs": []
    }
  ],
  "metadata": {
    "colab": {
      "name": "Keras-Mnist.ipynb",
      "provenance": [],
      "collapsed_sections": []
    },
    "kernelspec": {
      "name": "python_defaultSpec_1596030510701",
      "display_name": "Python 3.7.4 64-bit"
    },
    "accelerator": "GPU"
  },
  "nbformat": 4,
  "nbformat_minor": 0
}