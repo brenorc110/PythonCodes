{
  "nbformat": 4,
  "nbformat_minor": 0,
  "metadata": {
    "colab": {
      "name": "Keras-Mnist.ipynb",
      "provenance": [],
      "collapsed_sections": [],
      "include_colab_link": true
    },
    "kernelspec": {
      "name": "python_defaultSpec_1596030510701",
      "display_name": "Python 3.7.4 64-bit"
    },
    "accelerator": "GPU"
  },
  "cells": [
    {
      "cell_type": "markdown",
      "metadata": {
        "id": "view-in-github",
        "colab_type": "text"
      },
      "source": [
        "<a href=\"https://colab.research.google.com/github/brenorc110/PythonCodes/blob/master/cnn-keras-mnist-notebook.ipynb\" target=\"_parent\"><img src=\"https://colab.research.google.com/assets/colab-badge.svg\" alt=\"Open In Colab\"/></a>"
      ]
    },
    {
      "cell_type": "code",
      "metadata": {
        "colab_type": "code",
        "id": "HcsvvWE4kNsY",
        "colab": {
          "base_uri": "https://localhost:8080/",
          "height": 34
        },
        "outputId": "8ab5b16a-f850-420f-eb01-e3c4fb77e9e8"
      },
      "source": [
        "import tensorflow as tf\n",
        "#base de dados para treinamento\n",
        "from keras.datasets import mnist\n",
        "#Utilitario de montar camadas: \n",
        "from keras.models import Sequential\n",
        "#Classe para criacao das camadas finais (densamente conectadas)\n",
        "from keras.layers import Dense\n",
        "#Normalização: Impedir overfitting e normalizar daods em vetor.\n",
        "from keras.layers import Dropout\n",
        "from keras.layers import Flatten\n",
        "#Componente que raliza a convolucao\n",
        "from keras.layers.convolutional import Conv2D\n",
        "#Realiza a fase de pooling, retirar amostras do mapa de features\n",
        "from keras.layers.convolutional import MaxPooling2D\n",
        "import numpy as np\n",
        "from matplotlib import pyplot as plt\n",
        "from keras.utils import np_utils\n",
        "import cv2\n",
        "import os\n",
        "\n",
        "from keras import backend as K\n",
        "\n",
        "#Usando a ordem dos dados da imagem do Theano (framework): (canais, altura, largura), TensorFlow usa (alt, larg, canais). Serão usadas imgs 28x28 px.\n",
        "#K.tensorflow_backend.set_image_dim_ordering('th')\n",
        "K.set_image_data_format('channels_first')\n",
        "\n",
        "%matplotlib inline\n",
        "\n",
        "seed = 7\n",
        "np.random.seed(seed)"
      ],
      "execution_count": 1,
      "outputs": [
        {
          "output_type": "stream",
          "text": [
            "Using TensorFlow backend.\n"
          ],
          "name": "stderr"
        }
      ]
    },
    {
      "cell_type": "code",
      "metadata": {
        "id": "u9dn83SmmFo4",
        "colab_type": "code",
        "colab": {}
      },
      "source": [
        "def get_available_gpus():\n",
        "    if K.tensorflow_backend._LOCAL_DEVICES is None:\n",
        "        devices = tf.config.list_logical_devices()\n",
        "        K.tensorflow_backend._LOCAL_DEVICES = [x.name for x in devices]\n",
        "    return [x for x in K.tensorflow_backend._LOCAL_DEVICES if 'device:gpu' in x.lower()]\n",
        "\n",
        "def load_data():\n",
        "    #Importando as features de treino e de teste do Mnist: \n",
        "    (x_train, y_train), (x_test, y_test) = mnist.load_data()\n",
        "    #Redimensionando os objetos do dataset (Mnist), de treino, e depois, de teste:\n",
        "    #(60000 imgs, 1 canal cinza, 28px, 28px)\n",
        "    x_train = x_train.reshape(x_train.shape[0], 1, 28, 28).astype('float32')\n",
        "    \n",
        "    x_test = x_test.reshape(x_test.shape[0], 1, 28, 28).astype('float32')\n",
        "    # Passa os valores para um intervalo de 0 a 1, divindindo-os por 255\n",
        "    x_train = x_train / 255\n",
        "    x_test = x_test / 255\n",
        "    #Passando para valores categoricos (matriz).\n",
        "    y_train = np_utils.to_categorical(y_train)\n",
        "    y_test = np_utils.to_categorical(y_test)\n",
        "    print(x_train.shape)\n",
        "    return x_train, y_train, x_test, y_test"
      ],
      "execution_count": 2,
      "outputs": []
    },
    {
      "cell_type": "code",
      "metadata": {
        "colab_type": "code",
        "id": "MWfftoRZmaDz",
        "colab": {
          "base_uri": "https://localhost:8080/",
          "height": 69
        },
        "outputId": "025cbfe5-c44c-4356-a6ae-143a1c60e162"
      },
      "source": [
        "x_train, y_train, x_test, y_test = load_data()\n",
        "num_classes = y_test.shape[1] # Testa quantas camadas criadas.\n",
        "\n",
        "# O model será exportado para este arquivo\n",
        "filename='mnistneuralnet.h5'\n",
        "\n",
        "def model():\n",
        "    #Rede neural em si:\n",
        "    model = Sequential()\n",
        "    #1a camada: 30 feature maps, varrerá numa janela 5x5, imagens no padrão já mencionado, e funcao de ativacao relu.\n",
        "    model.add(Conv2D(30, (5, 5), input_shape=(1, 28, 28), activation='relu'))\n",
        "    #2a camada: Pooling, retira a amostra, no caso de 2x2.\n",
        "    model.add(MaxPooling2D(pool_size=(2, 2)))\n",
        "    \n",
        "    model.add(Conv2D(15, (3, 3), input_shape=(1, 28, 28), activation='relu'))\n",
        "\n",
        "    model.add(MaxPooling2D(pool_size=(2, 2)))\n",
        "    #3a camada: Regularizacao (Desliga neuronios aleatoriamente para vitar overfitting).\n",
        "    model.add(Dropout(0.2))\n",
        "    #4a camada: Fletar, transformar a camada com os dados em matriz.\n",
        "    model.add(Flatten())\n",
        "    #Camada simples com 128 neurônios\n",
        "    model.add(Dense(128, activation='relu'))\n",
        "\n",
        "    model.add(Dense(64, activation='relu'))\n",
        "\n",
        "    model.add(Dense(32, activation='relu'))\n",
        "    #Camada final: junta dados e classificacao final.\n",
        "    model.add(Dense(num_classes, activation='softmax', name='predict'))\n",
        "    #Para consolidar a rede, de fato. Funcao de loss (perda) calcula os erros. optimizer poderia ser gradient descent\n",
        "    model.compile(loss='categorical_crossentropy', optimizer='adam', metrics=['accuracy'])\n",
        "    \n",
        "    return model"
      ],
      "execution_count": 3,
      "outputs": [
        {
          "output_type": "stream",
          "text": [
            "Downloading data from https://s3.amazonaws.com/img-datasets/mnist.npz\n",
            "11493376/11490434 [==============================] - 2s 0us/step\n",
            "(60000, 1, 28, 28)\n"
          ],
          "name": "stdout"
        }
      ]
    },
    {
      "cell_type": "code",
      "metadata": {
        "id": "Ynxq0fXEmn3v",
        "colab_type": "code",
        "colab": {
          "base_uri": "https://localhost:8080/",
          "height": 866
        },
        "outputId": "05270d10-4a0d-45cf-a8c8-5b3a4aa17207"
      },
      "source": [
        "K.tensorflow_backend._get_available_gpus = get_available_gpus\n",
        "\n",
        "model = model()\n",
        "model.summary()\n",
        "\n",
        "# Verifica se já existe um modelo treinado e exportado para um arquivo .h5.\n",
        "# Um novo modelo será treinado, caso este arquivo não exista.\n",
        "if not os.path.exists('./{}'.format(filename) ):\n",
        "    model.fit(x_train, y_train, validation_data=(x_test, y_test), epochs=10, batch_size=200)\n",
        "    model.save_weights(filename)\n",
        "else:\n",
        "    # carrega um modelo previamente treinado\n",
        "    model.load_weights('./{}'.format(filename) )"
      ],
      "execution_count": 4,
      "outputs": [
        {
          "output_type": "stream",
          "text": [
            "Model: \"sequential_1\"\n",
            "_________________________________________________________________\n",
            "Layer (type)                 Output Shape              Param #   \n",
            "=================================================================\n",
            "conv2d_1 (Conv2D)            (None, 30, 24, 24)        780       \n",
            "_________________________________________________________________\n",
            "max_pooling2d_1 (MaxPooling2 (None, 30, 12, 12)        0         \n",
            "_________________________________________________________________\n",
            "conv2d_2 (Conv2D)            (None, 15, 10, 10)        4065      \n",
            "_________________________________________________________________\n",
            "max_pooling2d_2 (MaxPooling2 (None, 15, 5, 5)          0         \n",
            "_________________________________________________________________\n",
            "dropout_1 (Dropout)          (None, 15, 5, 5)          0         \n",
            "_________________________________________________________________\n",
            "flatten_1 (Flatten)          (None, 375)               0         \n",
            "_________________________________________________________________\n",
            "dense_1 (Dense)              (None, 128)               48128     \n",
            "_________________________________________________________________\n",
            "dense_2 (Dense)              (None, 64)                8256      \n",
            "_________________________________________________________________\n",
            "dense_3 (Dense)              (None, 32)                2080      \n",
            "_________________________________________________________________\n",
            "predict (Dense)              (None, 10)                330       \n",
            "=================================================================\n",
            "Total params: 63,639\n",
            "Trainable params: 63,639\n",
            "Non-trainable params: 0\n",
            "_________________________________________________________________\n",
            "Train on 60000 samples, validate on 10000 samples\n",
            "Epoch 1/10\n",
            "60000/60000 [==============================] - 10s 159us/step - loss: 0.4202 - accuracy: 0.8646 - val_loss: 0.0870 - val_accuracy: 0.9731\n",
            "Epoch 2/10\n",
            "60000/60000 [==============================] - 4s 60us/step - loss: 0.0990 - accuracy: 0.9701 - val_loss: 0.0482 - val_accuracy: 0.9844\n",
            "Epoch 3/10\n",
            "60000/60000 [==============================] - 4s 61us/step - loss: 0.0719 - accuracy: 0.9777 - val_loss: 0.0395 - val_accuracy: 0.9872\n",
            "Epoch 4/10\n",
            "60000/60000 [==============================] - 4s 61us/step - loss: 0.0575 - accuracy: 0.9819 - val_loss: 0.0370 - val_accuracy: 0.9883\n",
            "Epoch 5/10\n",
            "60000/60000 [==============================] - 4s 63us/step - loss: 0.0487 - accuracy: 0.9845 - val_loss: 0.0298 - val_accuracy: 0.9898\n",
            "Epoch 6/10\n",
            "60000/60000 [==============================] - 4s 64us/step - loss: 0.0420 - accuracy: 0.9865 - val_loss: 0.0280 - val_accuracy: 0.9907\n",
            "Epoch 7/10\n",
            "60000/60000 [==============================] - 4s 64us/step - loss: 0.0392 - accuracy: 0.9875 - val_loss: 0.0296 - val_accuracy: 0.9905\n",
            "Epoch 8/10\n",
            "60000/60000 [==============================] - 4s 60us/step - loss: 0.0350 - accuracy: 0.9889 - val_loss: 0.0256 - val_accuracy: 0.9915\n",
            "Epoch 9/10\n",
            "60000/60000 [==============================] - 4s 60us/step - loss: 0.0328 - accuracy: 0.9891 - val_loss: 0.0337 - val_accuracy: 0.9897\n",
            "Epoch 10/10\n",
            "60000/60000 [==============================] - 4s 60us/step - loss: 0.0300 - accuracy: 0.9897 - val_loss: 0.0273 - val_accuracy: 0.9911\n"
          ],
          "name": "stdout"
        }
      ]
    },
    {
      "cell_type": "code",
      "metadata": {
        "id": "kp2wR1gnn7kG",
        "colab_type": "code",
        "colab": {
          "base_uri": "https://localhost:8080/",
          "height": 52
        },
        "outputId": "5173bf68-96b1-4c12-c8dd-9c4d0e92000f"
      },
      "source": [
        "scores = model.evaluate(x_test, y_test, verbose=0)\n",
        "print(\"\\nacc: %.2f%%\" % (scores[1]*100))"
      ],
      "execution_count": 5,
      "outputs": [
        {
          "output_type": "stream",
          "text": [
            "\n",
            "acc: 99.11%\n"
          ],
          "name": "stdout"
        }
      ]
    },
    {
      "cell_type": "code",
      "metadata": {
        "id": "3_w7_5A1nBRH",
        "colab_type": "code",
        "colab": {
          "base_uri": "https://localhost:8080/",
          "height": 285
        },
        "outputId": "7fcb81d4-2c2e-483d-eff9-39570cae855a"
      },
      "source": [
        "img_pred = cv2.imread(\"Z72.png\", 0)\n",
        "plt.imshow(img_pred, cmap='gray')\n",
        "\n",
        "if img_pred.shape != [28,28]:\n",
        "    img2 = cv2.resize(img_pred, (28, 28))\n",
        "    img_pred = img2.reshape(28, 28, -1)\n",
        "else:\n",
        "    img_pred = img_pred.reshape(28, 28, -1)\n",
        "\n",
        "\n",
        "img_pred = img_pred.reshape(1, 1, 28, 28).astype('float32')\n",
        "\n",
        "img_pred = img_pred/255.0\n",
        "\n",
        "\n",
        "\n",
        "pred = model.predict_classes(img_pred)\n",
        "pred_proba = model.predict_proba(img_pred)\n",
        "pred_proba = \"%.2f%%\" % (pred_proba[0][pred]*100)\n",
        "print(pred[0], \" com confiança de \", pred_proba)\n"
      ],
      "execution_count": 16,
      "outputs": [
        {
          "output_type": "stream",
          "text": [
            "2  com confiança de  98.88%\n"
          ],
          "name": "stdout"
        },
        {
          "output_type": "display_data",
          "data": {
            "image/png": "[encoded data removed]",
            "text/plain": [
              "<Figure size 432x288 with 1 Axes>"
            ]
          },
          "metadata": {
            "tags": [],
            "needs_background": "light"
          }
        }
      ]
    },
    {
      "cell_type": "code",
      "metadata": {
        "id": "KFzZE77Whprx",
        "colab_type": "code",
        "colab": {}
      },
      "source": [
        ""
      ],
      "execution_count": null,
      "outputs": []
    }
  ]
}